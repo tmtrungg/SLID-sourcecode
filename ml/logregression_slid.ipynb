{
 "cells": [
  {
   "cell_type": "code",
   "execution_count": null,
   "metadata": {},
   "outputs": [],
   "source": [
    "import pandas as pd\n",
    "from sklearn.model_selection import train_test_split, cross_val_score\n",
    "from sklearn.metrics import precision_score, accuracy_score, recall_score, f1_score\n",
    "from sklearn.linear_model import LogisticRegression\n",
    "\n",
    "\n",
    "#Run for different day range\n",
    "\n",
    "# file_paths_1_to_300 = [f\"../../Data/rq23/{day}d/eth_{day}d.csv\" for day in range(1, 301)]\n",
    "# for file_path in file_paths_1_to_300:\n",
    "csv_scam_address = file_path\n",
    "df = pd.read_csv(csv_scam_address, encoding='latin-1')\n",
    "\n",
    "pd.set_option('display.max_columns', 500)\n",
    "pd.set_option('display.width', 1000)\n",
    "\n",
    "X = df.iloc[:,1:57]\n",
    "y = df.iloc[:,0]\n",
    "X_train, X_test, y_train, y_test = train_test_split(X, y, random_state=17, test_size=0.3, stratify=y)\n",
    "\n",
    "# hyperparameters\n",
    "best_params_lr = {\n",
    "    'penalty': 'l2',\n",
    "    'C': 1.0,  # Regularization strength\n",
    "    'solver': 'liblinear',  # Suitable for smaller datasets\n",
    "    'random_state': 0  # Ensure reproducibility\n",
    "}\n",
    "best_lr = LogisticRegression(**best_params_lr, class_weight='balanced')\n",
    "cv_scores_lr = cross_val_score(best_lr, X_train, y_train, cv=5, scoring='roc_auc')\n",
    "best_lr.fit(X_train, y_train)\n",
    "\n",
    "\n",
    "y_pred_lr = best_lr.predict(X_test)\n",
    "y_pred_prob_lr = best_lr.predict_proba(X_test)[:, 1]\n",
    "\n",
    "# Evaluate\n",
    "print(\"Logistic Regression Metrics:\")\n",
    "print(\"Accuracy:\", accuracy_score(y_test, y_pred_lr))\n",
    "print(\"Precision:\", precision_score(y_test, y_pred_lr))\n",
    "print(\"Recall:\", recall_score(y_test, y_pred_lr))\n",
    "print(\"F1 Score:\", f1_score(y_test, y_pred_lr))"
   ]
  }
 ],
 "metadata": {
  "kernelspec": {
   "display_name": "nerd",
   "language": "python",
   "name": "python3"
  },
  "language_info": {
   "codemirror_mode": {
    "name": "ipython",
    "version": 3
   },
   "file_extension": ".py",
   "mimetype": "text/x-python",
   "name": "python",
   "nbconvert_exporter": "python",
   "pygments_lexer": "ipython3",
   "version": "3.10.12"
  }
 },
 "nbformat": 4,
 "nbformat_minor": 2
}
