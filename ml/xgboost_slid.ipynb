{
 "cells": [
  {
   "cell_type": "code",
   "execution_count": null,
   "metadata": {},
   "outputs": [],
   "source": [
    "import pandas as pd\n",
    "from sklearn.model_selection import train_test_split, cross_val_score\n",
    "from sklearn.metrics import precision_score, accuracy_score, recall_score, f1_score\n",
    "from xgboost import XGBClassifier\n",
    "\n",
    "\n",
    "#Run for different day range\n",
    "\n",
    "# file_paths_1_to_300 = [f\"../../Data/rq23/{day}d/eth_{day}d.csv\" for day in range(1, 301)]\n",
    "# for file_path in file_paths_1_to_300:\n",
    "csv_scam_address = file_path\n",
    "df = pd.read_csv(csv_scam_address, encoding='latin-1')\n",
    "\n",
    "pd.set_option('display.max_columns', 500)\n",
    "pd.set_option('display.width', 1000)\n",
    "X = df.iloc[:,1:57]\n",
    "y = df.iloc[:,0]\n",
    "X_train, X_test, y_train, y_test = train_test_split(X, y, random_state=17, test_size=0.3, stratify=y)\n",
    "\n",
    "#Hyperparameter\n",
    "best_params_xgb = {\n",
    "    'n_estimators': 100,\n",
    "    'learning_rate': 0.1,\n",
    "    'max_depth': 6,\n",
    "    'min_child_weight': 1,\n",
    "    'subsample': 0.8,\n",
    "    'colsample_bytree': 0.8,\n",
    "    'random_state': 0 \n",
    "}\n",
    "best_xgb = XGBClassifier(**best_params_xgb, use_label_encoder=False, eval_metric='logloss')\n",
    "cv_scores_xgb = cross_val_score(best_xgb, X_train, y_train, cv=5, scoring='roc_auc')\n",
    "best_xgb.fit(X_train, y_train)\n",
    "\n",
    "y_pred_xgb = best_xgb.predict(X_test)\n",
    "y_pred_prob_xgb = best_xgb.predict_proba(X_test)[:, 1]\n",
    "\n",
    "# Evaluate\n",
    "print(\"XGBoost Metrics:\")\n",
    "print(\"Accuracy:\", accuracy_score(y_test, y_pred_xgb))\n",
    "print(\"Precision:\", precision_score(y_test, y_pred_xgb))\n",
    "print(\"Recall:\", recall_score(y_test, y_pred_xgb))\n",
    "print(\"F1 Score:\", f1_score(y_test, y_pred_xgb))\n"
   ]
  }
 ],
 "metadata": {
  "kernelspec": {
   "display_name": "nerd",
   "language": "python",
   "name": "python3"
  },
  "language_info": {
   "codemirror_mode": {
    "name": "ipython",
    "version": 3
   },
   "file_extension": ".py",
   "mimetype": "text/x-python",
   "name": "python",
   "nbconvert_exporter": "python",
   "pygments_lexer": "ipython3",
   "version": "3.10.12"
  }
 },
 "nbformat": 4,
 "nbformat_minor": 2
}
