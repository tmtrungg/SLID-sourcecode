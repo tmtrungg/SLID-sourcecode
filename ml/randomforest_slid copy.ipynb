{
 "cells": [
  {
   "cell_type": "code",
   "execution_count": null,
   "metadata": {},
   "outputs": [],
   "source": [
    "import pandas as pd\n",
    "from sklearn.model_selection import train_test_split, cross_val_score\n",
    "from sklearn.ensemble import RandomForestClassifier\n",
    "from sklearn.metrics import precision_score, accuracy_score, recall_score, f1_score\n",
    "\n",
    "#Run for different day range\n",
    "# file_paths_1_to_300 = [f\"../../Data/rq23/{day}d/eth_{day}d.csv\" for day in range(1, 301)]\n",
    "# for file_path in file_paths_1_to_300:\n",
    "csv_scam_address = file_path\n",
    "df = pd.read_csv(csv_scam_address, encoding='latin-1')\n",
    "\n",
    "pd.set_option('display.max_columns', 500)\n",
    "pd.set_option('display.width', 1000)\n",
    "\n",
    "X = df.iloc[:,1:57]\n",
    "y = df.iloc[:,0]\n",
    "X_train, X_test, y_train, y_test = train_test_split(X, y, random_state=17, test_size=0.3, stratify=y)\n",
    "\n",
    "\n",
    "#Hyperparameter\n",
    "best_params = {\n",
    "    'bootstrap': True,\n",
    "    'max_depth': None,\n",
    "    'min_samples_leaf': 1,\n",
    "    'min_samples_split': 2,\n",
    "    'n_estimators': 100,\n",
    "    'random_state': 0  # Ensure reproducibility\n",
    "}\n",
    "best_rf = RandomForestClassifier(**best_params, class_weight='balanced')\n",
    "cv_scores = cross_val_score(best_rf, X_train, y_train, cv=5, scoring='roc_auc')\n",
    "best_rf.fit(X_train, y_train)\n",
    "\n",
    "y_pred = best_rf.predict(X_test)\n",
    "y_pred_prob_rf = best_rf.predict_proba(X_test)[:, 1]\n",
    "\n",
    "print(accuracy_score(y_test, y_pred))\n",
    "print(precision_score(y_test, y_pred))\n",
    "print(recall_score(y_test, y_pred))\n",
    "print(f1_score(y_test, y_pred))\n",
    "\n"
   ]
  }
 ],
 "metadata": {
  "kernelspec": {
   "display_name": "nerd",
   "language": "python",
   "name": "python3"
  },
  "language_info": {
   "codemirror_mode": {
    "name": "ipython",
    "version": 3
   },
   "file_extension": ".py",
   "mimetype": "text/x-python",
   "name": "python",
   "nbconvert_exporter": "python",
   "pygments_lexer": "ipython3",
   "version": "3.10.12"
  }
 },
 "nbformat": 4,
 "nbformat_minor": 2
}
